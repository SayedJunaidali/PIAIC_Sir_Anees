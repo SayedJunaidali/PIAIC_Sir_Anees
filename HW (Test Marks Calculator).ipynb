{
 "cells": [
  {
   "cell_type": "code",
   "execution_count": 6,
   "metadata": {},
   "outputs": [
    {
     "name": "stdout",
     "output_type": "stream",
     "text": [
      "********************Marksheet********************\n",
      "Enter marks of first Subject out of 100 :90\n",
      "Enter marks of second Subject out of 100 :77\n",
      "Enter marks of third Subject out of 100 :73\n",
      "Enter marks of fourth Subject out of 100 :67\n",
      "Enter marks of fifth Subject out of 100 :59\n",
      "Grade = B\n"
     ]
    }
   ],
   "source": [
    "print(\"********************Marksheet********************\")\n",
    "Sub1 = int(input(\"Enter marks of first Subject out of 100 :\"))\n",
    "Sub2 = int(input(\"Enter marks of second Subject out of 100 :\"))\n",
    "Sub3 = int(input(\"Enter marks of third Subject out of 100 :\"))\n",
    "Sub4 = int(input(\"Enter marks of fourth Subject out of 100 :\"))\n",
    "Sub5 = int(input(\"Enter marks of fifth Subject out of 100 :\"))\n",
    "Percentage = ((Sub1+Sub2+Sub3+Sub4+Sub5)/500)*100\n",
    "if(Percentage>=90):\n",
    "    print(\"Grade = A1\")\n",
    "elif(Percentage>=80):\n",
    "    print(\"Grade = A\")\n",
    "elif(Percentage>=70):\n",
    "    print(\"Grade = B\")\n",
    "elif(Percentage>=60):\n",
    "    print(\"Grade = C\")\n",
    "elif(Percentage>=50):\n",
    "    print(\"Grade = D\")\n",
    "else:\n",
    "    print(\"Grade = F\")"
   ]
  },
  {
   "cell_type": "code",
   "execution_count": null,
   "metadata": {},
   "outputs": [],
   "source": []
  }
 ],
 "metadata": {
  "kernelspec": {
   "display_name": "Python 3",
   "language": "python",
   "name": "python3"
  },
  "language_info": {
   "codemirror_mode": {
    "name": "ipython",
    "version": 3
   },
   "file_extension": ".py",
   "mimetype": "text/x-python",
   "name": "python",
   "nbconvert_exporter": "python",
   "pygments_lexer": "ipython3",
   "version": "3.7.3"
  }
 },
 "nbformat": 4,
 "nbformat_minor": 2
}
